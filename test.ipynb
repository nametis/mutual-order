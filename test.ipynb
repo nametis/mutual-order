{
 "cells": [
  {
   "cell_type": "code",
   "execution_count": 1,
   "id": "c1a8024c",
   "metadata": {},
   "outputs": [],
   "source": [
    "import discogs_client, os\n",
    "from flask import Flask, request, redirect, render_template, url_for, flash, session\n"
   ]
  },
  {
   "cell_type": "code",
   "execution_count": 2,
   "id": "d2961c3e",
   "metadata": {},
   "outputs": [
    {
     "name": "stdout",
     "output_type": "stream",
     "text": [
      "✅ Discogs client initialized with real credentials!\n"
     ]
    },
    {
     "data": {
      "text/plain": [
       "'For Sale'"
      ]
     },
     "execution_count": 2,
     "metadata": {},
     "output_type": "execute_result"
    }
   ],
   "source": [
    "# Get secret key from environment\n",
    "app = Flask(__name__)\n",
    "\n",
    "\n",
    "app.secret_key = os.getenv('FLASK_SECRET_KEY')\n",
    "if not app.secret_key:\n",
    "    print(\"⚠️  WARNING: FLASK_SECRET_KEY not set in .env file!\")\n",
    "    app.secret_key = \"dev_key_change_in_production\"\n",
    "\n",
    "app.config['SQLALCHEMY_DATABASE_URI'] = 'sqlite:///mutual_order.db'\n",
    "app.config['SQLALCHEMY_TRACK_MODIFICATIONS'] = False\n",
    "\n",
    "# ✅ Configure Discogs client with environment variables\n",
    "USER_AGENT = \"MutualOrder/1.0\"\n",
    "\n",
    "# Get credentials from environment\n",
    "CONSUMER_KEY = os.getenv('DISCOGS_CONSUMER_KEY')\n",
    "CONSUMER_SECRET = os.getenv('DISCOGS_CONSUMER_SECRET')\n",
    "ACCESS_TOKEN = os.getenv('DISCOGS_ACCESS_TOKEN')\n",
    "ACCESS_SECRET = os.getenv('DISCOGS_ACCESS_SECRET')\n",
    "\n",
    "discogsclient = discogs_client.Client(USER_AGENT)\n",
    "discogsclient.set_consumer_key(CONSUMER_KEY, CONSUMER_SECRET)\n",
    "discogsclient.set_token(ACCESS_TOKEN, ACCESS_SECRET)\n",
    "\n",
    "print(\"✅ Discogs client initialized with real credentials!\")\n",
    "\n",
    "discogsclient.listing('3583941798').status"
   ]
  },
  {
   "cell_type": "code",
   "execution_count": 16,
   "id": "296ad889",
   "metadata": {},
   "outputs": [
    {
     "data": {
      "text/plain": [
       "<User 181681 'www.hhv.de'>"
      ]
     },
     "execution_count": 16,
     "metadata": {},
     "output_type": "execute_result"
    }
   ],
   "source": [
    "discogsclient.user('www.hhv.de')"
   ]
  }
 ],
 "metadata": {
  "kernelspec": {
   "display_name": "mutual-env",
   "language": "python",
   "name": "python3"
  },
  "language_info": {
   "codemirror_mode": {
    "name": "ipython",
    "version": 3
   },
   "file_extension": ".py",
   "mimetype": "text/x-python",
   "name": "python",
   "nbconvert_exporter": "python",
   "pygments_lexer": "ipython3",
   "version": "3.10.6"
  }
 },
 "nbformat": 4,
 "nbformat_minor": 5
}
